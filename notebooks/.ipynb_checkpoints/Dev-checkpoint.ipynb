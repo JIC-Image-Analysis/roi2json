{
 "cells": [
  {
   "cell_type": "code",
   "execution_count": 1,
   "metadata": {},
   "outputs": [],
   "source": [
    "%load_ext autoreload\n",
    "%autoreload 2"
   ]
  },
  {
   "cell_type": "code",
   "execution_count": 2,
   "metadata": {},
   "outputs": [],
   "source": [
    "from roi2json import roi_from_fpath"
   ]
  },
  {
   "cell_type": "code",
   "execution_count": 79,
   "metadata": {},
   "outputs": [
    {
     "data": {
      "text/plain": [
       "{'type': 'rect', 'coords': []}"
      ]
     },
     "execution_count": 79,
     "metadata": {},
     "output_type": "execute_result"
    }
   ],
   "source": [
    "roi_fpath = \"../local-data/image_23_branches.roi\"\n",
    "roi_from_fpath(roi_fpath)"
   ]
  },
  {
   "cell_type": "code",
   "execution_count": 115,
   "metadata": {},
   "outputs": [
    {
     "data": {
      "text/plain": [
       "{'type': 'point',\n",
       " 'coords': [(479, 488),\n",
       "  (496, 474),\n",
       "  (479, 483),\n",
       "  (493, 480),\n",
       "  (476, 492),\n",
       "  (467, 501),\n",
       "  (475, 509),\n",
       "  (473, 510),\n",
       "  (476, 522),\n",
       "  (480, 524),\n",
       "  (482, 519),\n",
       "  (488, 519),\n",
       "  (492, 513),\n",
       "  (495, 507),\n",
       "  (491, 501),\n",
       "  (491, 496),\n",
       "  (502, 483),\n",
       "  (505, 480),\n",
       "  (519, 471),\n",
       "  (520, 477),\n",
       "  (524, 470),\n",
       "  (532, 475),\n",
       "  (533, 481),\n",
       "  (541, 476),\n",
       "  (550, 476),\n",
       "  (552, 469),\n",
       "  (565, 473),\n",
       "  (567, 473),\n",
       "  (567, 476),\n",
       "  (574, 471),\n",
       "  (581, 485),\n",
       "  (573, 489),\n",
       "  (566, 500),\n",
       "  (565, 485),\n",
       "  (558, 484),\n",
       "  (549, 483),\n",
       "  (551, 486),\n",
       "  (542, 485),\n",
       "  (538, 487),\n",
       "  (540, 491),\n",
       "  (544, 490),\n",
       "  (551, 508),\n",
       "  (553, 512),\n",
       "  (555, 507),\n",
       "  (559, 506),\n",
       "  (570, 494),\n",
       "  (538, 523),\n",
       "  (535, 526),\n",
       "  (529, 530),\n",
       "  (536, 520),\n",
       "  (535, 518),\n",
       "  (532, 518),\n",
       "  (533, 512),\n",
       "  (526, 510),\n",
       "  (527, 508),\n",
       "  (528, 503),\n",
       "  (531, 498),\n",
       "  (541, 498),\n",
       "  (542, 496),\n",
       "  (503, 495),\n",
       "  (510, 505),\n",
       "  (503, 508),\n",
       "  (508, 511),\n",
       "  (514, 511),\n",
       "  (519, 514),\n",
       "  (523, 516),\n",
       "  (523, 520),\n",
       "  (521, 526),\n",
       "  (513, 530),\n",
       "  (512, 531),\n",
       "  (515, 535),\n",
       "  (509, 536),\n",
       "  (499, 541),\n",
       "  (498, 534),\n",
       "  (496, 521)]}"
      ]
     },
     "execution_count": 115,
     "metadata": {},
     "output_type": "execute_result"
    }
   ],
   "source": [
    "roi_from_fpath(\"../local-data/fca1-FLCVenus-VenusRNA1_cell2.roi\")"
   ]
  },
  {
   "cell_type": "code",
   "execution_count": 6,
   "metadata": {},
   "outputs": [],
   "source": [
    "import struct"
   ]
  },
  {
   "cell_type": "code",
   "execution_count": 80,
   "metadata": {},
   "outputs": [],
   "source": [
    "with open(roi_fpath, 'rb') as fh:\n",
    "    raw_file_bytes = fh.read()\n",
    "\n",
    "type_code, top, left, bottom, right = struct.unpack(\">Bxhhhh\", raw_file_bytes[6:16])\n",
    "x1, y1, x2, y2 = struct.unpack(\">ffff\", raw_file_bytes[18:34])\n",
    "n_coordinates, = struct.unpack(\">h\", raw_file_bytes[16:18])"
   ]
  },
  {
   "cell_type": "code",
   "execution_count": 95,
   "metadata": {},
   "outputs": [],
   "source": [
    "shape_roi_size, = struct.unpack(\">i\", raw_file_bytes[36:40])"
   ]
  },
  {
   "cell_type": "code",
   "execution_count": 87,
   "metadata": {},
   "outputs": [
    {
     "data": {
      "text/plain": [
       "(21832,)"
      ]
     },
     "execution_count": 87,
     "metadata": {},
     "output_type": "execute_result"
    }
   ],
   "source": [
    "struct.unpack(\">i\", raw_file_bytes[60:64])"
   ]
  },
  {
   "cell_type": "code",
   "execution_count": 89,
   "metadata": {},
   "outputs": [],
   "source": [
    "type_code, top, left, bottom, right = struct.unpack(\">Bxhhhh\", raw_file_bytes[6:16])"
   ]
  },
  {
   "cell_type": "code",
   "execution_count": 112,
   "metadata": {},
   "outputs": [],
   "source": [
    "mcoords = struct.unpack(\">\" + \"f\" * shape_roi_size, raw_file_bytes[64:64+4*shape_roi_size])"
   ]
  },
  {
   "cell_type": "code",
   "execution_count": 105,
   "metadata": {},
   "outputs": [
    {
     "data": {
      "text/plain": [
       "b'\\x00\\x00\\x00\\x00'"
      ]
     },
     "execution_count": 105,
     "metadata": {},
     "output_type": "execute_result"
    }
   ],
   "source": [
    "raw_file_bytes[64:68]"
   ]
  },
  {
   "cell_type": "code",
   "execution_count": 109,
   "metadata": {},
   "outputs": [
    {
     "data": {
      "text/plain": [
       "(67, 250, 0, 0)"
      ]
     },
     "execution_count": 109,
     "metadata": {},
     "output_type": "execute_result"
    }
   ],
   "source": [
    "raw_file_bytes[68], raw_file_bytes[69], raw_file_bytes[70], raw_file_bytes[71]"
   ]
  },
  {
   "cell_type": "code",
   "execution_count": 72,
   "metadata": {},
   "outputs": [],
   "source": [
    "roi_fpath = \"../local-data/image_30_branch1.roi\"\n",
    "roi_from_fpath(roi_fpath)\n",
    "with open(roi_fpath, 'rb') as fh:\n",
    "    raw_file_bytes = fh.read()"
   ]
  },
  {
   "cell_type": "code",
   "execution_count": 15,
   "metadata": {},
   "outputs": [
    {
     "data": {
      "text/plain": [
       "{'type': 'polyline', 'coords': [(654, 508), (619, 368), (642, 229)]}"
      ]
     },
     "execution_count": 15,
     "metadata": {},
     "output_type": "execute_result"
    }
   ],
   "source": [
    "roi_from_fpath(roi_fpath)"
   ]
  },
  {
   "cell_type": "code",
   "execution_count": 88,
   "metadata": {},
   "outputs": [],
   "source": [
    "type_code, top, left, bottom, right = struct.unpack(\">Bxhhhh\", raw_file_bytes[6:16])"
   ]
  },
  {
   "cell_type": "code",
   "execution_count": 48,
   "metadata": {},
   "outputs": [
    {
     "data": {
      "text/plain": [
       "435"
      ]
     },
     "execution_count": 48,
     "metadata": {},
     "output_type": "execute_result"
    }
   ],
   "source": [
    "left"
   ]
  },
  {
   "cell_type": "code",
   "execution_count": 78,
   "metadata": {},
   "outputs": [
    {
     "data": {
      "text/plain": [
       "0"
      ]
     },
     "execution_count": 78,
     "metadata": {},
     "output_type": "execute_result"
    }
   ],
   "source": [
    "raw_file_bytes[39]"
   ]
  },
  {
   "cell_type": "code",
   "execution_count": 30,
   "metadata": {},
   "outputs": [],
   "source": [
    "!pip install --quiet roifile"
   ]
  },
  {
   "cell_type": "code",
   "execution_count": 31,
   "metadata": {},
   "outputs": [],
   "source": [
    "import roifile"
   ]
  },
  {
   "cell_type": "code",
   "execution_count": 63,
   "metadata": {},
   "outputs": [],
   "source": [
    "roi = roifile.ImagejRoi.fromfile(roi_fpath)"
   ]
  },
  {
   "cell_type": "code",
   "execution_count": 64,
   "metadata": {},
   "outputs": [
    {
     "data": {
      "text/plain": [
       "array([[578., 373.],\n",
       "       [578., 377.],\n",
       "       [577., 377.],\n",
       "       [577., 378.],\n",
       "       [576., 378.],\n",
       "       [576., 380.],\n",
       "       [577., 380.],\n",
       "       [577., 379.],\n",
       "       [578., 379.],\n",
       "       [578., 378.],\n",
       "       [579., 378.],\n",
       "       [579., 376.],\n",
       "       [580., 376.],\n",
       "       [580., 374.],\n",
       "       [579., 374.],\n",
       "       [579., 373.],\n",
       "       [578., 373.]], dtype=float32)"
      ]
     },
     "execution_count": 64,
     "metadata": {},
     "output_type": "execute_result"
    }
   ],
   "source": [
    "roi.coordinates()"
   ]
  },
  {
   "cell_type": "code",
   "execution_count": 65,
   "metadata": {},
   "outputs": [
    {
     "data": {
      "text/plain": [
       "'image_23_branches'"
      ]
     },
     "execution_count": 65,
     "metadata": {},
     "output_type": "execute_result"
    }
   ],
   "source": [
    "roi.name"
   ]
  },
  {
   "cell_type": "code",
   "execution_count": 71,
   "metadata": {},
   "outputs": [
    {
     "data": {
      "image/png": "[encoded data removed]",
      "text/plain": [
       "<Figure size 432x288 with 1 Axes>"
      ]
     },
     "metadata": {
      "needs_background": "light"
     },
     "output_type": "display_data"
    }
   ],
   "source": [
    "roi.plot()"
   ]
  },
  {
   "cell_type": "code",
   "execution_count": 56,
   "metadata": {},
   "outputs": [
    {
     "name": "stdout",
     "output_type": "stream",
     "text": [
      "Collecting matplotlib\n",
      "  Using cached matplotlib-3.2.1-cp37-cp37m-macosx_10_9_x86_64.whl (12.4 MB)\n",
      "Requirement already satisfied: pyparsing!=2.0.4,!=2.1.2,!=2.1.6,>=2.0.1 in /Users/mhartley/projects/image_analysis/roi2json/venv/lib/python3.7/site-packages (from matplotlib) (2.4.7)\n",
      "Requirement already satisfied: numpy>=1.11 in /Users/mhartley/projects/image_analysis/roi2json/venv/lib/python3.7/site-packages (from matplotlib) (1.18.5)\n",
      "Requirement already satisfied: python-dateutil>=2.1 in /Users/mhartley/projects/image_analysis/roi2json/venv/lib/python3.7/site-packages (from matplotlib) (2.8.1)\n",
      "Collecting cycler>=0.10\n",
      "  Using cached cycler-0.10.0-py2.py3-none-any.whl (6.5 kB)\n",
      "Collecting kiwisolver>=1.0.1\n",
      "  Using cached kiwisolver-1.2.0-cp37-cp37m-macosx_10_9_x86_64.whl (60 kB)\n",
      "Requirement already satisfied: six>=1.5 in /Users/mhartley/projects/image_analysis/roi2json/venv/lib/python3.7/site-packages (from python-dateutil>=2.1->matplotlib) (1.15.0)\n",
      "Installing collected packages: cycler, kiwisolver, matplotlib\n",
      "Successfully installed cycler-0.10.0 kiwisolver-1.2.0 matplotlib-3.2.1\n"
     ]
    }
   ],
   "source": [
    "!pip install matplotlib"
   ]
  },
  {
   "cell_type": "code",
   "execution_count": 111,
   "metadata": {},
   "outputs": [
    {
     "data": {
      "text/plain": [
       "array([  0., 500.,  60., ..., 624., 588.,   4.], dtype=float32)"
      ]
     },
     "execution_count": 111,
     "metadata": {},
     "output_type": "execute_result"
    }
   ],
   "source": [
    "roi.multi_coordinates"
   ]
  },
  {
   "cell_type": "code",
   "execution_count": 113,
   "metadata": {},
   "outputs": [
    {
     "data": {
      "text/plain": [
       "(5442,)"
      ]
     },
     "execution_count": 113,
     "metadata": {},
     "output_type": "execute_result"
    }
   ],
   "source": [
    "roi.multi_coordinates.shape"
   ]
  },
  {
   "cell_type": "code",
   "execution_count": 114,
   "metadata": {},
   "outputs": [
    {
     "data": {
      "text/plain": [
       "1814.0"
      ]
     },
     "execution_count": 114,
     "metadata": {},
     "output_type": "execute_result"
    }
   ],
   "source": [
    "5442/3"
   ]
  },
  {
   "cell_type": "code",
   "execution_count": null,
   "metadata": {},
   "outputs": [],
   "source": []
  }
 ],
 "metadata": {
  "kernelspec": {
   "display_name": "Python 3",
   "language": "python",
   "name": "python3"
  },
  "language_info": {
   "codemirror_mode": {
    "name": "ipython",
    "version": 3
   },
   "file_extension": ".py",
   "mimetype": "text/x-python",
   "name": "python",
   "nbconvert_exporter": "python",
   "pygments_lexer": "ipython3",
   "version": "3.7.7"
  }
 },
 "nbformat": 4,
 "nbformat_minor": 4
}
